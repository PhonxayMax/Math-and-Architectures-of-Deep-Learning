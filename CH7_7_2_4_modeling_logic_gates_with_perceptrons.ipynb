{
  "cells": [
    {
      "cell_type": "markdown",
      "metadata": {
        "id": "view-in-github",
        "colab_type": "text"
      },
      "source": [
        "<a href=\"https://colab.research.google.com/github/PhonxayMax/Math-and-Architectures-of-Deep-Learning/blob/main/CH7_7_2_4_modeling_logic_gates_with_perceptrons.ipynb\" target=\"_parent\"><img src=\"https://colab.research.google.com/assets/colab-badge.svg\" alt=\"Open In Colab\"/></a>"
      ]
    },
    {
      "cell_type": "code",
      "execution_count": null,
      "metadata": {
        "id": "R6X2RdDD_5pe"
      },
      "outputs": [],
      "source": [
        "%run 7.2.3-perceptron.ipynb"
      ]
    },
    {
      "cell_type": "code",
      "execution_count": null,
      "metadata": {
        "id": "E_sEr0jQ_5pf",
        "outputId": "9c0b0ba8-8a2a-405f-acdd-2e1265b8be14"
      },
      "outputs": [
        {
          "name": "stdout",
          "output_type": "stream",
          "text": [
            "x  |  y  |  x AND y\n",
            "--------------------\n",
            "0  |  0  |    0\n",
            "0  |  1  |    0\n",
            "1  |  0  |    0\n",
            "1  |  1  |    1\n"
          ]
        }
      ],
      "source": [
        "# Logical AND\n",
        "X = torch.tensor([[0., 0.],\n",
        "                 [0., 1.],\n",
        "                 [1., 0.],\n",
        "                 [1., 1.]], dtype=torch.float32)\n",
        "W = torch.tensor([[1.0, 1.0]], dtype=torch.float32)\n",
        "b = torch.tensor([-1.5])\n",
        "Y = Perceptron(X=X, W=W, b=b, activation=torch.heaviside)\n",
        "print('x  |  y  |  x AND y')\n",
        "print('--------------------')\n",
        "for x, y in zip(X, Y):\n",
        "    print('{}  |  {}  |    {}'.format(int(x[0]), int(x[1]), int(y[0])))"
      ]
    },
    {
      "cell_type": "code",
      "execution_count": null,
      "metadata": {
        "id": "dvEWuh13_5pg",
        "outputId": "7e043d83-8548-4485-ff96-e578b5ab47e7"
      },
      "outputs": [
        {
          "name": "stdout",
          "output_type": "stream",
          "text": [
            "x  |  y  |  x OR y\n",
            "--------------------\n",
            "0  |  0  |     0\n",
            "0  |  1  |     1\n",
            "1  |  0  |     1\n",
            "1  |  1  |     1\n"
          ]
        }
      ],
      "source": [
        "# Logical OR\n",
        "X = torch.tensor([[0., 0.],\n",
        "                 [0., 1.],\n",
        "                 [1., 0.],\n",
        "                 [1., 1.]], dtype=torch.float32)\n",
        "W = torch.tensor([[1.0, 1.0]], dtype=torch.float32)\n",
        "b = torch.tensor([-0.5])\n",
        "Y = Perceptron(X=X, W=W, b=b, activation=torch.heaviside)\n",
        "print('x  |  y  |  x OR y')\n",
        "print('--------------------')\n",
        "for x, y in zip(X, Y):\n",
        "    print('{}  |  {}  |     {}'.format(int(x[0]), int(x[1]), int(y[0])))"
      ]
    },
    {
      "cell_type": "code",
      "execution_count": null,
      "metadata": {
        "id": "0hi_nOql_5pg",
        "outputId": "6949066b-a03e-4b1e-bfa4-d002d7aed42e"
      },
      "outputs": [
        {
          "name": "stdout",
          "output_type": "stream",
          "text": [
            "x  |  NOT x\n",
            "-----------\n",
            "0  |  1\n",
            "1  |  0\n"
          ]
        }
      ],
      "source": [
        "# Logical NOT\n",
        "X = torch.tensor([[0],\n",
        "                 [1.]\n",
        "                 ], dtype=torch.float32)\n",
        "W = torch.tensor([[-1.0]], dtype=torch.float32)\n",
        "b = torch.tensor([0.5])\n",
        "Y = Perceptron(X=X, W=W, b=b, activation=torch.heaviside)\n",
        "print('x  |  NOT x')\n",
        "print('-----------')\n",
        "for x, y in zip(X, Y):\n",
        "    print('{}  |  {}'.format(int(x[0]), int(y[0])))"
      ]
    },
    {
      "cell_type": "code",
      "execution_count": null,
      "metadata": {
        "id": "Fuz6JNLv_5ph",
        "outputId": "86826161-5aca-4254-d622-23f4859ac002"
      },
      "outputs": [
        {
          "name": "stdout",
          "output_type": "stream",
          "text": [
            "x  |  y  |  x OR y\n",
            "--------------------\n",
            "0  |  0  |     0\n",
            "0  |  1  |     1\n",
            "1  |  0  |     1\n",
            "1  |  1  |     0\n"
          ]
        }
      ],
      "source": [
        "# Logical XOR\n",
        "X = torch.tensor([[0., 0.],\n",
        "                 [0., 1.],\n",
        "                 [1., 0.],\n",
        "                 [1., 1.]], dtype=torch.float32)\n",
        "W0 = torch.tensor([[1.0, -1.0],\n",
        "                  [-1.0, 1.0]], dtype=torch.float32)\n",
        "b0 = torch.tensor([-0.5, -0.5])\n",
        "W1 = torch.tensor([[1.0, 1.0]], dtype=torch.float32)\n",
        "b1 = torch.tensor([-0.5])\n",
        "\n",
        "Y = MLP(X=X, W0=W0, W1=W1, b0=b0, b1=b1,\n",
        "        activation0=torch.heaviside, activation1=torch.heaviside)\n",
        "print('x  |  y  |  x OR y')\n",
        "print('--------------------')\n",
        "for x, y in zip(X, Y):\n",
        "    print('{}  |  {}  |     {}'.format(int(x[0]), int(x[1]), int(y[0])))"
      ]
    }
  ],
  "metadata": {
    "kernelspec": {
      "display_name": "Python 3 (ipykernel)",
      "language": "python",
      "name": "python3"
    },
    "language_info": {
      "codemirror_mode": {
        "name": "ipython",
        "version": 3
      },
      "file_extension": ".py",
      "mimetype": "text/x-python",
      "name": "python",
      "nbconvert_exporter": "python",
      "pygments_lexer": "ipython3",
      "version": "3.7.9"
    },
    "colab": {
      "provenance": [],
      "include_colab_link": true
    }
  },
  "nbformat": 4,
  "nbformat_minor": 0
}