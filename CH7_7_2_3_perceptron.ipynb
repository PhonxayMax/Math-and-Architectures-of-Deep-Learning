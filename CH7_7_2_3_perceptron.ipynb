{
  "cells": [
    {
      "cell_type": "markdown",
      "metadata": {
        "id": "view-in-github",
        "colab_type": "text"
      },
      "source": [
        "<a href=\"https://colab.research.google.com/github/PhonxayMax/Math-and-Architectures-of-Deep-Learning/blob/main/CH7_7_2_3_perceptron.ipynb\" target=\"_parent\"><img src=\"https://colab.research.google.com/assets/colab-badge.svg\" alt=\"Open In Colab\"/></a>"
      ]
    },
    {
      "cell_type": "code",
      "execution_count": 1,
      "metadata": {
        "id": "jXCEnpEMoZmL"
      },
      "outputs": [],
      "source": [
        "import torch\n",
        "\n",
        "\n",
        "\n",
        "def fully_connected_layer(X, W, b, activation=None):\n",
        "    \"\"\"\n",
        "    Implements a Fully Connected layer of Neural Networks\n",
        "    Input:\n",
        "    1) X: n x d tensor - each row of X is an input vector, there are n vectors\n",
        "          each of size d.\n",
        "    2) W: m x d tensor\n",
        "    Returns:\n",
        "    y: m tensor, y = W X.transpose + b\n",
        "    \"\"\"\n",
        "    assert (activation is None or activation is torch.sigmoid or activation is torch.relu\n",
        "            or activation is torch.tanh or activation is torch.heaviside)\n",
        "    assert torch.is_tensor(X) and torch.is_tensor(W) and torch.is_tensor(b)\n",
        "    assert len(X.shape) == 2\n",
        "    n = X.shape[0]  # number of input vectors\n",
        "    d = X.shape[1]  # input  dimensionality\n",
        "    m = b.shape[0]  # output dimensionality\n",
        "    assert b.shape == torch.Size([m]), \"b.shape = {}\".format(b.shape)\n",
        "    assert W.shape == torch.Size([m, d]), \"W.shape = {}\".format(W.shape)\n",
        "\n",
        "    X = torch.cat((X, torch.ones([X.shape[0], 1], dtype=torch.float32)), dim=1)\n",
        "    W = torch.cat((W, b.unsqueeze(dim=1)), dim=1)\n",
        "    y = torch.matmul(W, X.transpose(0, 1))\n",
        "    if activation is not None:\n",
        "        if activation is torch.heaviside:\n",
        "            y = activation(y, torch.tensor(1.0))\n",
        "        else:\n",
        "            y = activation(y)\n",
        "\n",
        "    return y.transpose(0, 1)\n",
        "\n",
        "\n",
        "def Perceptron(X, W, b, activation=torch.heaviside):\n",
        "    assert W.shape[0] == 1 and b.shape[0] == 1\n",
        "    return fully_connected_layer(X, W, b, activation=activation)\n",
        "\n",
        "\n",
        "def MLP(X, W0, W1, b0, b1, activation0=torch.heaviside, activation1=None):\n",
        "    y0 = fully_connected_layer(X=X, W=W0, b=b0, activation=activation0)\n",
        "    return fully_connected_layer(X=y0, W=W1, b=b1, activation=activation1)"
      ]
    },
    {
      "cell_type": "markdown",
      "source": [
        "#Prompton ChatGPT ---> X is an input tensor with n data samples, each of dimension d, gives me 5 examples of this"
      ],
      "metadata": {
        "id": "_0AFvyw05nor"
      }
    },
    {
      "cell_type": "code",
      "source": [
        "\"\"\"\n",
        "ตัวอย่างที่ 1: Input ของ Perceptron ที่มี 4 ตัวอย่างข้อมูล (n = 4) และแต่ละตัวอย่างมี 2 ฟีเจอร์ (d = 2) ดังนี้\n",
        "\"\"\"\n",
        "# n = 4, d = 2\n",
        "X = torch.tensor([\n",
        "    [1.2, 0.7],\n",
        "    [3.5, 1.1],\n",
        "    [0.0, 2.2],\n",
        "    [1.8, 3.0]\n",
        "])\n",
        "X"
      ],
      "metadata": {
        "id": "RytZRvkX5_8-",
        "outputId": "1e37ed06-a34c-4278-fd94-6694259a7c83",
        "colab": {
          "base_uri": "https://localhost:8080/"
        }
      },
      "execution_count": 3,
      "outputs": [
        {
          "output_type": "execute_result",
          "data": {
            "text/plain": [
              "tensor([[1.2000, 0.7000],\n",
              "        [3.5000, 1.1000],\n",
              "        [0.0000, 2.2000],\n",
              "        [1.8000, 3.0000]])"
            ]
          },
          "metadata": {},
          "execution_count": 3
        }
      ]
    },
    {
      "cell_type": "code",
      "source": [
        "\"\"\"\n",
        "ตัวอย่างที่ 2: ข้อมูลภาพ (flattened) 3 ภาพ ขนาด 2 × 2 (d = 4) จากนั้นสร้าง input tensor สำหรับ Perceptron ที่มี 3 ตัวอย่างข้อมูล (n = 3) และแต่ละตัวอย่างมี 4 ฟีเจอร์ (d = 4)\n",
        "\"\"\"\n",
        "# n = 3, d = 2x2\n",
        "X = torch.tensor([\n",
        "    [0.0, 0.2, 0.1, 0.3],\n",
        "    [1.0, 0.9, 0.8, 0.7],\n",
        "    [0.5, 0.6, 0.6, 0.5]\n",
        "])\n",
        "X"
      ],
      "metadata": {
        "id": "QEC5RZfn8L8p",
        "outputId": "7a8bf1d9-fe70-49c6-e29f-4599ccf195a5",
        "colab": {
          "base_uri": "https://localhost:8080/"
        }
      },
      "execution_count": 5,
      "outputs": [
        {
          "output_type": "execute_result",
          "data": {
            "text/plain": [
              "tensor([[0.0000, 0.2000, 0.1000, 0.3000],\n",
              "        [1.0000, 0.9000, 0.8000, 0.7000],\n",
              "        [0.5000, 0.6000, 0.6000, 0.5000]])"
            ]
          },
          "metadata": {},
          "execution_count": 5
        }
      ]
    },
    {
      "cell_type": "code",
      "source": [
        "\"\"\"\n",
        " ตัวอย่างที่ 3: ข้อมูลเชิงเวลา (Time series) จาก 5 ตัวอย่าง (n = 5), วัดค่าอุณหภูมิ 3 จุด (d = 3)\n",
        "\"\"\"\n",
        "# n = 5, d = 3\n",
        "X = torch.tensor([\n",
        "    [23.0, 24.1, 22.5],\n",
        "    [22.8, 24.0, 22.3],\n",
        "    [23.5, 25.2, 23.0],\n",
        "    [24.0, 24.8, 23.2],\n",
        "    [23.2, 24.6, 22.8]\n",
        "])\n",
        "X"
      ],
      "metadata": {
        "id": "qHEilYSH9tcN",
        "outputId": "03178f7a-2af8-4023-91ea-f8c4f80c3239",
        "colab": {
          "base_uri": "https://localhost:8080/"
        }
      },
      "execution_count": 9,
      "outputs": [
        {
          "output_type": "execute_result",
          "data": {
            "text/plain": [
              "tensor([[23.0000, 24.1000, 22.5000],\n",
              "        [22.8000, 24.0000, 22.3000],\n",
              "        [23.5000, 25.2000, 23.0000],\n",
              "        [24.0000, 24.8000, 23.2000],\n",
              "        [23.2000, 24.6000, 22.8000]])"
            ]
          },
          "metadata": {},
          "execution_count": 9
        }
      ]
    },
    {
      "cell_type": "code",
      "source": [
        "\"\"\"\n",
        "ตัวอย่างที่ 4: Text embedding – 2 คำ แต่ละคำมีเวกเตอร์ฝังขนาด 5 (d = 5)\n",
        "\"\"\"\n",
        "# n = 2, d = 5\n",
        "X = torch.tensor([\n",
        "    [0.1, 0.3, 0.5, 0.7, 0.9],\n",
        "    [0.0, 0.2, 0.4, 0.6, 0.8]\n",
        "])\n",
        "X"
      ],
      "metadata": {
        "id": "vyeV6EC5_Cle",
        "outputId": "20ffd032-d660-43ce-e627-3f5e39c01d68",
        "colab": {
          "base_uri": "https://localhost:8080/"
        }
      },
      "execution_count": 11,
      "outputs": [
        {
          "output_type": "execute_result",
          "data": {
            "text/plain": [
              "tensor([[0.1000, 0.3000, 0.5000, 0.7000, 0.9000],\n",
              "        [0.0000, 0.2000, 0.4000, 0.6000, 0.8000]])"
            ]
          },
          "metadata": {},
          "execution_count": 11
        }
      ]
    },
    {
      "cell_type": "code",
      "source": [
        "\"\"\"\n",
        " ตัวอย่างที่ 5: ข้อมูลป้อนเข้า MLP – 10 ตัวอย่าง, แต่ละตัวอย่างมี 100 ฟีเจอร์\n",
        "\"\"\"\n",
        "# n = 10, d = 100\n",
        "X = torch.randn(10, 100)\n",
        "# X"
      ],
      "metadata": {
        "id": "nfUvTm5nAwgh"
      },
      "execution_count": 14,
      "outputs": []
    }
  ],
  "metadata": {
    "kernelspec": {
      "display_name": "Python 3 (ipykernel)",
      "language": "python",
      "name": "python3"
    },
    "language_info": {
      "codemirror_mode": {
        "name": "ipython",
        "version": 3
      },
      "file_extension": ".py",
      "mimetype": "text/x-python",
      "name": "python",
      "nbconvert_exporter": "python",
      "pygments_lexer": "ipython3",
      "version": "3.7.9"
    },
    "colab": {
      "provenance": [],
      "include_colab_link": true
    }
  },
  "nbformat": 4,
  "nbformat_minor": 0
}