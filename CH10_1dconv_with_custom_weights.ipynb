{
  "nbformat": 4,
  "nbformat_minor": 0,
  "metadata": {
    "colab": {
      "provenance": [],
      "authorship_tag": "ABX9TyOiWa9XL9nM/REp8Z+S+79y",
      "include_colab_link": true
    },
    "kernelspec": {
      "name": "python3",
      "display_name": "Python 3"
    },
    "language_info": {
      "name": "python"
    }
  },
  "cells": [
    {
      "cell_type": "markdown",
      "metadata": {
        "id": "view-in-github",
        "colab_type": "text"
      },
      "source": [
        "<a href=\"https://colab.research.google.com/github/PhonxayMax/Math-and-Architectures-of-Deep-Learning/blob/main/CH10_1dconv_with_custom_weights.ipynb\" target=\"_parent\"><img src=\"https://colab.research.google.com/assets/colab-badge.svg\" alt=\"Open In Colab\"/></a>"
      ]
    },
    {
      "cell_type": "code",
      "execution_count": 1,
      "metadata": {
        "id": "Udjyocx-ZiIX"
      },
      "outputs": [],
      "source": [
        "import torch"
      ]
    },
    {
      "cell_type": "code",
      "source": [
        "x = torch.tensor([-1., 4., 11., 14., 21., 25., 30.])"
      ],
      "metadata": {
        "id": "nPj4Zvikc9Zn"
      },
      "execution_count": 2,
      "outputs": []
    },
    {
      "cell_type": "code",
      "source": [
        "w = torch.tensor([0.33, 0.33, 0.33])"
      ],
      "metadata": {
        "id": "WsozjDtWdBcC"
      },
      "execution_count": 3,
      "outputs": []
    },
    {
      "cell_type": "code",
      "source": [
        "x = x.unsqueeze(0).unsqueeze(0)\n",
        "w = w.unsqueeze(0).unsqueeze(0)"
      ],
      "metadata": {
        "id": "1t43kYj6dH-0"
      },
      "execution_count": 4,
      "outputs": []
    },
    {
      "cell_type": "code",
      "source": [
        "conv1d = torch.nn.Conv1d(1, 1, kernel_size=3, stride=1, padding=0, bias=False)"
      ],
      "metadata": {
        "id": "tB7DErzldJhI"
      },
      "execution_count": 5,
      "outputs": []
    },
    {
      "cell_type": "code",
      "source": [
        "conv1d.weight = torch.nn.Parameter(w, requires_grad=False)"
      ],
      "metadata": {
        "id": "OqKljU0ZdPee"
      },
      "execution_count": 6,
      "outputs": []
    },
    {
      "cell_type": "code",
      "source": [
        "with torch.no_grad():\n",
        "    y = conv1d(x)"
      ],
      "metadata": {
        "id": "qV3IWnVCdVlB"
      },
      "execution_count": 8,
      "outputs": []
    },
    {
      "cell_type": "code",
      "source": [
        "y"
      ],
      "metadata": {
        "colab": {
          "base_uri": "https://localhost:8080/"
        },
        "id": "Sw4uU-9_db3M",
        "outputId": "24f5de05-8cc5-491b-9e64-f77d4860c76b"
      },
      "execution_count": 9,
      "outputs": [
        {
          "output_type": "execute_result",
          "data": {
            "text/plain": [
              "tensor([[[ 4.6200,  9.5700, 15.1800, 19.8000, 25.0800]]])"
            ]
          },
          "metadata": {},
          "execution_count": 9
        }
      ]
    }
  ]
}